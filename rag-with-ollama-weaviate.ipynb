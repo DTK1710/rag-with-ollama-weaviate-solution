{
 "cells": [
  {
   "cell_type": "code",
   "execution_count": 2,
   "metadata": {},
   "outputs": [],
   "source": [
    "import weaviate\n",
    "import requests\n",
    "import ast\n",
    "import json"
   ]
  },
  {
   "cell_type": "code",
   "execution_count": 3,
   "metadata": {},
   "outputs": [
    {
     "name": "stderr",
     "output_type": "stream",
     "text": [
      "c:\\Users\\User\\AppData\\Local\\Programs\\Python\\Python310\\lib\\site-packages\\weaviate\\warnings.py:162: DeprecationWarning: Dep016: Python client v3 `weaviate.Client(...)` connections and methods are deprecated. Update\n",
      "            your code to use Python client v4 `weaviate.WeaviateClient` connections and methods.\n",
      "\n",
      "            For Python Client v4 usage, see: https://weaviate.io/developers/weaviate/client-libraries/python\n",
      "            For code migration, see: https://weaviate.io/developers/weaviate/client-libraries/python/v3_v4_migration\n",
      "            \n",
      "  warnings.warn(\n"
     ]
    }
   ],
   "source": [
    "client = weaviate.Client(\"http://localhost:8080\")"
   ]
  },
  {
   "cell_type": "code",
   "execution_count": 4,
   "metadata": {},
   "outputs": [],
   "source": [
    "schema = {\n",
    "    \"classes\": [\n",
    "    {\n",
    "        \"class\": \"Question\",\n",
    "        \"description\": \"A question\",\n",
    "        \"vectorizer\": \"text2vec-ollama\",\n",
    "        \"moduleConfig\": {\n",
    "            \"text2vec-ollama\": {\n",
    "                \"apiEndpoint\": \"http://ollama:11434\",\n",
    "                \"model\": \"nomic-embed-text\"\n",
    "            },\n",
    "            \"generative-ollama\": {\n",
    "                \"apiEndpoint\": \"http://ollama:11434\",\n",
    "                \"model\": \"phi\"\n",
    "            }\n",
    "        }\n",
    "    }\n",
    "    ]\n",
    "}"
   ]
  },
  {
   "cell_type": "code",
   "execution_count": null,
   "metadata": {},
   "outputs": [],
   "source": [
    "client.schema.create(schema)"
   ]
  },
  {
   "cell_type": "code",
   "execution_count": null,
   "metadata": {},
   "outputs": [],
   "source": [
    "json_string = requests.get('https://raw.githubusercontent.com/weaviate-tutorials/quickstart/main/data/jeopardy_tiny.json')"
   ]
  },
  {
   "cell_type": "code",
   "execution_count": null,
   "metadata": {},
   "outputs": [],
   "source": [
    "datas = ast.literal_eval(json_string.content.decode())"
   ]
  },
  {
   "cell_type": "code",
   "execution_count": null,
   "metadata": {},
   "outputs": [],
   "source": [
    "for data in datas:\n",
    "    uuid = client.data_object.create(\n",
    "        class_name = \"Question\",\n",
    "        data_object = data\n",
    "    )"
   ]
  },
  {
   "cell_type": "code",
   "execution_count": 4,
   "metadata": {},
   "outputs": [
    {
     "name": "stdout",
     "output_type": "stream",
     "text": [
      "{\n",
      "  \"data\": {\n",
      "    \"Get\": {\n",
      "      \"Question\": [\n",
      "        {\n",
      "          \"_additional\": {\n",
      "            \"distance\": 0.49546236\n",
      "          },\n",
      "          \"answer\": \"Liver\",\n",
      "          \"category\": \"SCIENCE\",\n",
      "          \"question\": \"This organ removes excess glucose from the blood & stores it as glycogen\"\n",
      "        },\n",
      "        {\n",
      "          \"_additional\": {\n",
      "            \"distance\": 0.50302213\n",
      "          },\n",
      "          \"answer\": \"the atmosphere\",\n",
      "          \"category\": \"SCIENCE\",\n",
      "          \"question\": \"Changes in the tropospheric layer of this are what gives us weather\"\n",
      "        }\n",
      "      ]\n",
      "    }\n",
      "  }\n",
      "}\n"
     ]
    }
   ],
   "source": [
    "response = (\n",
    "    client.query\n",
    "    .get('Question', ['question', 'answer', 'category'])\n",
    "    .with_near_text({\n",
    "        \"concepts\": ['biology']\n",
    "    })\n",
    "    .with_limit(2)\n",
    "    .with_additional(['distance'])\n",
    "    .do()\n",
    ")\n",
    "\n",
    "print(json.dumps(response, indent=2))"
   ]
  },
  {
   "cell_type": "code",
   "execution_count": 5,
   "metadata": {},
   "outputs": [
    {
     "name": "stdout",
     "output_type": "stream",
     "text": [
      "{\n",
      "  \"data\": {\n",
      "    \"Get\": {\n",
      "      \"Question\": [\n",
      "        {\n",
      "          \"_additional\": {\n",
      "            \"generate\": {\n",
      "              \"error\": null,\n",
      "              \"singleResult\": \" Sure, I'd be happy to explain it in simple terms for a little kid like that. Our liver is like a big factory in our body. It has different parts that do different jobs and work together to help us stay healthy. The liver makes important things like bile (which helps us digest food) and enzymes (which help us break down toxins). If we don't take care of our liver, it can get sick just like any other part of our body. That's why it's important to eat healthy foods and drink plenty of water so our liver can stay strong and keep working properly!\\n\"\n",
      "            }\n",
      "          },\n",
      "          \"answer\": \"Liver\",\n",
      "          \"category\": \"SCIENCE\",\n",
      "          \"question\": \"This organ removes excess glucose from the blood & stores it as glycogen\"\n",
      "        }\n",
      "      ]\n",
      "    }\n",
      "  }\n",
      "}\n"
     ]
    }
   ],
   "source": [
    "generatePrompt = 'Explain {answer} as you might to a five-year-old.'\n",
    "\n",
    "result = (\n",
    "  client.query\n",
    "  .get(\"Question\", ['question', 'answer', 'category'])\n",
    "  .with_near_text({\n",
    "    \"concepts\": ['biology']\n",
    "  })\n",
    "  .with_generate(single_prompt=generatePrompt)\n",
    "  .with_limit(1)\n",
    ").do()\n",
    "\n",
    "print(json.dumps(result, indent=2))"
   ]
  },
  {
   "cell_type": "code",
   "execution_count": 6,
   "metadata": {},
   "outputs": [
    {
     "name": "stdout",
     "output_type": "stream",
     "text": [
      "{\n",
      "  \"data\": {\n",
      "    \"Get\": {\n",
      "      \"Question\": [\n",
      "        {\n",
      "          \"_additional\": {\n",
      "            \"generate\": {\n",
      "              \"error\": null,\n",
      "              \"groupedResult\": \" Ref2vec (or Representation Learning with 2D Vector) is a machine learning algorithm that generates a low-dimensional vector space representation of a set of documents. This representation captures high-level semantic information from the document and can be used for various applications such as text classification, document clustering, and information retrieval.\\n\\nThe idea behind Ref2vec is to create a vector that represents each word in a document by taking the average of its representations in the context of all other words in the same document. This way, the representation of a document becomes more informative because it captures not only the individual words but also their relationships and co-occurrence patterns.\\n\\nFor example, consider the following sentence: \\\"The elephant is an African animal.\\\" In the vector space generated by Ref2vec, this sentence will be represented as a point in high dimensional space that takes into account the semantic meaning of each word and its context in relation to other words. This representation can then be used for various downstream tasks such as text classification or document clustering.\\n\"\n",
      "            }\n",
      "          },\n",
      "          \"answer\": \"Liver\",\n",
      "          \"category\": \"SCIENCE\",\n",
      "          \"question\": \"This organ removes excess glucose from the blood & stores it as glycogen\"\n",
      "        },\n",
      "        {\n",
      "          \"_additional\": null,\n",
      "          \"answer\": \"DNA\",\n",
      "          \"category\": \"SCIENCE\",\n",
      "          \"question\": \"In 1953 Watson & Crick built a model of the molecular structure of this, the gene-carrying substance\"\n",
      "        },\n",
      "        {\n",
      "          \"_additional\": null,\n",
      "          \"answer\": \"the atmosphere\",\n",
      "          \"category\": \"SCIENCE\",\n",
      "          \"question\": \"Changes in the tropospheric layer of this are what gives us weather\"\n",
      "        },\n",
      "        {\n",
      "          \"_additional\": null,\n",
      "          \"answer\": \"Elephant\",\n",
      "          \"category\": \"ANIMALS\",\n",
      "          \"question\": \"It's the only living mammal in the order Proboseidea\"\n",
      "        },\n",
      "        {\n",
      "          \"_additional\": null,\n",
      "          \"answer\": \"Antelope\",\n",
      "          \"category\": \"ANIMALS\",\n",
      "          \"question\": \"Weighing around a ton, the eland is the largest species of this animal in Africa\"\n",
      "        }\n",
      "      ]\n",
      "    }\n",
      "  }\n",
      "}\n"
     ]
    }
   ],
   "source": [
    "generateTask = \"Please answer the question: What is ref2vec? based on the following search results. IMPORTANT! Please make sure your answer is supported by the information in the search results and provide references to the provided content when possible.\"\n",
    "\n",
    "result = (\n",
    "  client.query\n",
    "  .get(\"Question\", ['question', 'answer', 'category'])\n",
    "  .with_generate(grouped_task=generateTask)\n",
    "  .with_near_text({\n",
    "    \"concepts\": [\"What is ref2vec?\"]\n",
    "  })\n",
    "  .with_limit(5)\n",
    ").do()\n",
    "\n",
    "print(json.dumps(result, indent=2))"
   ]
  }
 ],
 "metadata": {
  "kernelspec": {
   "display_name": "Python 3",
   "language": "python",
   "name": "python3"
  },
  "language_info": {
   "codemirror_mode": {
    "name": "ipython",
    "version": 3
   },
   "file_extension": ".py",
   "mimetype": "text/x-python",
   "name": "python",
   "nbconvert_exporter": "python",
   "pygments_lexer": "ipython3",
   "version": "3.10.2"
  }
 },
 "nbformat": 4,
 "nbformat_minor": 2
}
